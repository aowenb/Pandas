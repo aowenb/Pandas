{
 "metadata": {
  "language_info": {
   "codemirror_mode": {
    "name": "ipython",
    "version": 3
   },
   "file_extension": ".py",
   "mimetype": "text/x-python",
   "name": "python",
   "nbconvert_exporter": "python",
   "pygments_lexer": "ipython3",
   "version": "3.9.2-final"
  },
  "orig_nbformat": 2,
  "kernelspec": {
   "name": "python3",
   "display_name": "Python 3.9.2 64-bit",
   "metadata": {
    "interpreter": {
     "hash": "aee8b7b246df8f9039afb4144a1f6fd8d2ca17a180786b69acc140d282b71a49"
    }
   }
  }
 },
 "nbformat": 4,
 "nbformat_minor": 2,
 "cells": [
  {
   "cell_type": "code",
   "execution_count": 2,
   "metadata": {},
   "outputs": [],
   "source": [
    "import numpy as np\n",
    "import pandas as pd"
   ]
  },
  {
   "cell_type": "code",
   "execution_count": 56,
   "metadata": {},
   "outputs": [
    {
     "output_type": "execute_result",
     "data": {
      "text/plain": [
       "PG      (Stephen Curry, 30)\n",
       "SG        (Kobe Bryant, 24)\n",
       "SF       (Kawhi Leonard, 2)\n",
       "PF       (LeBron James, 23)\n",
       "C     (Shaquille ONeal, 32)\n",
       "dtype: object"
      ]
     },
     "metadata": {},
     "execution_count": 56
    }
   ],
   "source": [
    "position = ['PG','SG','SF','PF','C']\n",
    "players = ['Stephen Curry','Kobe Bryant','Kawhi Leonard','LeBron James','Shaquille ONeal']\n",
    "numbers = [30,24,2,23,32]\n",
    "profile = list(zip(players,numbers))\n",
    "pd.Series(profile,position) # data , index "
   ]
  },
  {
   "cell_type": "code",
   "execution_count": 139,
   "metadata": {},
   "outputs": [
    {
     "output_type": "execute_result",
     "data": {
      "text/plain": [
       "[(10, 4, 9), (6, 1, 9), (10, 4, 14), (6, 8, 8), (12, 19, 12)]"
      ]
     },
     "metadata": {},
     "execution_count": 139
    }
   ],
   "source": [
    "points = np.random.randint(1,30,5)\n",
    "assists = np.random.randint(1,20,5)\n",
    "rebounds = np.random.randint(1,20,5)\n",
    "summary = list(zip(points,assists,rebounds))\n",
    "summary"
   ]
  },
  {
   "cell_type": "code",
   "execution_count": 140,
   "metadata": {},
   "outputs": [
    {
     "output_type": "execute_result",
     "data": {
      "text/plain": [
       "                       points  assists  rebounds\n",
       "(Stephen Curry, 30)        10        4         9\n",
       "(Kobe Bryant, 24)           6        1         9\n",
       "(Kawhi Leonard, 2)         10        4        14\n",
       "(LeBron James, 23)          6        8         8\n",
       "(Shaquille ONeal, 32)      12       19        12"
      ],
      "text/html": "<div>\n<style scoped>\n    .dataframe tbody tr th:only-of-type {\n        vertical-align: middle;\n    }\n\n    .dataframe tbody tr th {\n        vertical-align: top;\n    }\n\n    .dataframe thead th {\n        text-align: right;\n    }\n</style>\n<table border=\"1\" class=\"dataframe\">\n  <thead>\n    <tr style=\"text-align: right;\">\n      <th></th>\n      <th>points</th>\n      <th>assists</th>\n      <th>rebounds</th>\n    </tr>\n  </thead>\n  <tbody>\n    <tr>\n      <th>(Stephen Curry, 30)</th>\n      <td>10</td>\n      <td>4</td>\n      <td>9</td>\n    </tr>\n    <tr>\n      <th>(Kobe Bryant, 24)</th>\n      <td>6</td>\n      <td>1</td>\n      <td>9</td>\n    </tr>\n    <tr>\n      <th>(Kawhi Leonard, 2)</th>\n      <td>10</td>\n      <td>4</td>\n      <td>14</td>\n    </tr>\n    <tr>\n      <th>(LeBron James, 23)</th>\n      <td>6</td>\n      <td>8</td>\n      <td>8</td>\n    </tr>\n    <tr>\n      <th>(Shaquille ONeal, 32)</th>\n      <td>12</td>\n      <td>19</td>\n      <td>12</td>\n    </tr>\n  </tbody>\n</table>\n</div>"
     },
     "metadata": {},
     "execution_count": 140
    }
   ],
   "source": [
    "table = pd.DataFrame(data = summary,index = profile,columns = 'points assists rebounds'.split())\n",
    "table"
   ]
  },
  {
   "cell_type": "code",
   "execution_count": 141,
   "metadata": {},
   "outputs": [
    {
     "output_type": "execute_result",
     "data": {
      "text/plain": [
       "                       points  assists  rebounds\n",
       "(Stephen Curry, 30)        10        4         9\n",
       "(Kobe Bryant, 24)           6        1         9\n",
       "(Kawhi Leonard, 2)         10        4        14\n",
       "(LeBron James, 23)          6        8         8\n",
       "(Shaquille ONeal, 32)      12       19        12"
      ],
      "text/html": "<div>\n<style scoped>\n    .dataframe tbody tr th:only-of-type {\n        vertical-align: middle;\n    }\n\n    .dataframe tbody tr th {\n        vertical-align: top;\n    }\n\n    .dataframe thead th {\n        text-align: right;\n    }\n</style>\n<table border=\"1\" class=\"dataframe\">\n  <thead>\n    <tr style=\"text-align: right;\">\n      <th></th>\n      <th>points</th>\n      <th>assists</th>\n      <th>rebounds</th>\n    </tr>\n  </thead>\n  <tbody>\n    <tr>\n      <th>(Stephen Curry, 30)</th>\n      <td>10</td>\n      <td>4</td>\n      <td>9</td>\n    </tr>\n    <tr>\n      <th>(Kobe Bryant, 24)</th>\n      <td>6</td>\n      <td>1</td>\n      <td>9</td>\n    </tr>\n    <tr>\n      <th>(Kawhi Leonard, 2)</th>\n      <td>10</td>\n      <td>4</td>\n      <td>14</td>\n    </tr>\n    <tr>\n      <th>(LeBron James, 23)</th>\n      <td>6</td>\n      <td>8</td>\n      <td>8</td>\n    </tr>\n    <tr>\n      <th>(Shaquille ONeal, 32)</th>\n      <td>12</td>\n      <td>19</td>\n      <td>12</td>\n    </tr>\n  </tbody>\n</table>\n</div>"
     },
     "metadata": {},
     "execution_count": 141
    }
   ],
   "source": [
    "table"
   ]
  },
  {
   "cell_type": "code",
   "execution_count": 130,
   "metadata": {},
   "outputs": [
    {
     "output_type": "execute_result",
     "data": {
      "text/plain": [
       "                       points  assists  rebounds\n",
       "(Stephen Curry, 30)        20       12        15\n",
       "(Kobe Bryant, 24)           3       12        13\n",
       "(Kawhi Leonard, 2)         27        6        18\n",
       "(LeBron James, 23)          9       15         7\n",
       "(Shaquille ONeal, 32)      12        1         2"
      ],
      "text/html": "<div>\n<style scoped>\n    .dataframe tbody tr th:only-of-type {\n        vertical-align: middle;\n    }\n\n    .dataframe tbody tr th {\n        vertical-align: top;\n    }\n\n    .dataframe thead th {\n        text-align: right;\n    }\n</style>\n<table border=\"1\" class=\"dataframe\">\n  <thead>\n    <tr style=\"text-align: right;\">\n      <th></th>\n      <th>points</th>\n      <th>assists</th>\n      <th>rebounds</th>\n    </tr>\n  </thead>\n  <tbody>\n    <tr>\n      <th>(Stephen Curry, 30)</th>\n      <td>20</td>\n      <td>12</td>\n      <td>15</td>\n    </tr>\n    <tr>\n      <th>(Kobe Bryant, 24)</th>\n      <td>3</td>\n      <td>12</td>\n      <td>13</td>\n    </tr>\n    <tr>\n      <th>(Kawhi Leonard, 2)</th>\n      <td>27</td>\n      <td>6</td>\n      <td>18</td>\n    </tr>\n    <tr>\n      <th>(LeBron James, 23)</th>\n      <td>9</td>\n      <td>15</td>\n      <td>7</td>\n    </tr>\n    <tr>\n      <th>(Shaquille ONeal, 32)</th>\n      <td>12</td>\n      <td>1</td>\n      <td>2</td>\n    </tr>\n  </tbody>\n</table>\n</div>"
     },
     "metadata": {},
     "execution_count": 130
    }
   ],
   "source": [
    "table.drop('position',axis = 1,inplace=True)\n",
    "table"
   ]
  },
  {
   "cell_type": "code",
   "execution_count": 143,
   "metadata": {},
   "outputs": [
    {
     "output_type": "execute_result",
     "data": {
      "text/plain": [
       "                      position  points  assists  rebounds\n",
       "(Stephen Curry, 30)         PG      10        4         9\n",
       "(Kobe Bryant, 24)           SG       6        1         9\n",
       "(Kawhi Leonard, 2)          SF      10        4        14\n",
       "(LeBron James, 23)          PF       6        8         8\n",
       "(Shaquille ONeal, 32)        C      12       19        12"
      ],
      "text/html": "<div>\n<style scoped>\n    .dataframe tbody tr th:only-of-type {\n        vertical-align: middle;\n    }\n\n    .dataframe tbody tr th {\n        vertical-align: top;\n    }\n\n    .dataframe thead th {\n        text-align: right;\n    }\n</style>\n<table border=\"1\" class=\"dataframe\">\n  <thead>\n    <tr style=\"text-align: right;\">\n      <th></th>\n      <th>position</th>\n      <th>points</th>\n      <th>assists</th>\n      <th>rebounds</th>\n    </tr>\n  </thead>\n  <tbody>\n    <tr>\n      <th>(Stephen Curry, 30)</th>\n      <td>PG</td>\n      <td>10</td>\n      <td>4</td>\n      <td>9</td>\n    </tr>\n    <tr>\n      <th>(Kobe Bryant, 24)</th>\n      <td>SG</td>\n      <td>6</td>\n      <td>1</td>\n      <td>9</td>\n    </tr>\n    <tr>\n      <th>(Kawhi Leonard, 2)</th>\n      <td>SF</td>\n      <td>10</td>\n      <td>4</td>\n      <td>14</td>\n    </tr>\n    <tr>\n      <th>(LeBron James, 23)</th>\n      <td>PF</td>\n      <td>6</td>\n      <td>8</td>\n      <td>8</td>\n    </tr>\n    <tr>\n      <th>(Shaquille ONeal, 32)</th>\n      <td>C</td>\n      <td>12</td>\n      <td>19</td>\n      <td>12</td>\n    </tr>\n  </tbody>\n</table>\n</div>"
     },
     "metadata": {},
     "execution_count": 143
    }
   ],
   "source": [
    "table.insert(0,'position',position)\n",
    "table"
   ]
  },
  {
   "cell_type": "code",
   "execution_count": 132,
   "metadata": {},
   "outputs": [],
   "source": [
    "table['index'] = np.arange(0,5)"
   ]
  },
  {
   "cell_type": "code",
   "execution_count": 133,
   "metadata": {},
   "outputs": [
    {
     "output_type": "execute_result",
     "data": {
      "text/plain": [
       "                      position  points  assists  rebounds  index\n",
       "(Stephen Curry, 30)         PG      20       12        15      0\n",
       "(Kobe Bryant, 24)           SG       3       12        13      1\n",
       "(Kawhi Leonard, 2)          SF      27        6        18      2\n",
       "(LeBron James, 23)          PF       9       15         7      3\n",
       "(Shaquille ONeal, 32)        C      12        1         2      4"
      ],
      "text/html": "<div>\n<style scoped>\n    .dataframe tbody tr th:only-of-type {\n        vertical-align: middle;\n    }\n\n    .dataframe tbody tr th {\n        vertical-align: top;\n    }\n\n    .dataframe thead th {\n        text-align: right;\n    }\n</style>\n<table border=\"1\" class=\"dataframe\">\n  <thead>\n    <tr style=\"text-align: right;\">\n      <th></th>\n      <th>position</th>\n      <th>points</th>\n      <th>assists</th>\n      <th>rebounds</th>\n      <th>index</th>\n    </tr>\n  </thead>\n  <tbody>\n    <tr>\n      <th>(Stephen Curry, 30)</th>\n      <td>PG</td>\n      <td>20</td>\n      <td>12</td>\n      <td>15</td>\n      <td>0</td>\n    </tr>\n    <tr>\n      <th>(Kobe Bryant, 24)</th>\n      <td>SG</td>\n      <td>3</td>\n      <td>12</td>\n      <td>13</td>\n      <td>1</td>\n    </tr>\n    <tr>\n      <th>(Kawhi Leonard, 2)</th>\n      <td>SF</td>\n      <td>27</td>\n      <td>6</td>\n      <td>18</td>\n      <td>2</td>\n    </tr>\n    <tr>\n      <th>(LeBron James, 23)</th>\n      <td>PF</td>\n      <td>9</td>\n      <td>15</td>\n      <td>7</td>\n      <td>3</td>\n    </tr>\n    <tr>\n      <th>(Shaquille ONeal, 32)</th>\n      <td>C</td>\n      <td>12</td>\n      <td>1</td>\n      <td>2</td>\n      <td>4</td>\n    </tr>\n  </tbody>\n</table>\n</div>"
     },
     "metadata": {},
     "execution_count": 133
    }
   ],
   "source": [
    "table"
   ]
  },
  {
   "cell_type": "code",
   "execution_count": 134,
   "metadata": {},
   "outputs": [
    {
     "output_type": "execute_result",
     "data": {
      "text/plain": [
       "                      position  points  assists  rebounds  index\n",
       "(Stephen Curry, 30)         PG      20       12        15      0\n",
       "(Kobe Bryant, 24)           SG       3       12        13      1\n",
       "(Kawhi Leonard, 2)          SF      27        6        18      2\n",
       "(LeBron James, 23)          PF       9       15         7      3\n",
       "(Shaquille ONeal, 32)        C      12        1         2      4"
      ],
      "text/html": "<div>\n<style scoped>\n    .dataframe tbody tr th:only-of-type {\n        vertical-align: middle;\n    }\n\n    .dataframe tbody tr th {\n        vertical-align: top;\n    }\n\n    .dataframe thead th {\n        text-align: right;\n    }\n</style>\n<table border=\"1\" class=\"dataframe\">\n  <thead>\n    <tr style=\"text-align: right;\">\n      <th></th>\n      <th>position</th>\n      <th>points</th>\n      <th>assists</th>\n      <th>rebounds</th>\n      <th>index</th>\n    </tr>\n  </thead>\n  <tbody>\n    <tr>\n      <th>(Stephen Curry, 30)</th>\n      <td>PG</td>\n      <td>20</td>\n      <td>12</td>\n      <td>15</td>\n      <td>0</td>\n    </tr>\n    <tr>\n      <th>(Kobe Bryant, 24)</th>\n      <td>SG</td>\n      <td>3</td>\n      <td>12</td>\n      <td>13</td>\n      <td>1</td>\n    </tr>\n    <tr>\n      <th>(Kawhi Leonard, 2)</th>\n      <td>SF</td>\n      <td>27</td>\n      <td>6</td>\n      <td>18</td>\n      <td>2</td>\n    </tr>\n    <tr>\n      <th>(LeBron James, 23)</th>\n      <td>PF</td>\n      <td>9</td>\n      <td>15</td>\n      <td>7</td>\n      <td>3</td>\n    </tr>\n    <tr>\n      <th>(Shaquille ONeal, 32)</th>\n      <td>C</td>\n      <td>12</td>\n      <td>1</td>\n      <td>2</td>\n      <td>4</td>\n    </tr>\n  </tbody>\n</table>\n</div>"
     },
     "metadata": {},
     "execution_count": 134
    }
   ],
   "source": [
    "table.set_index('index')\n",
    "table"
   ]
  },
  {
   "cell_type": "code",
   "execution_count": 144,
   "metadata": {},
   "outputs": [
    {
     "output_type": "execute_result",
     "data": {
      "text/plain": [
       "                      position  points  assists  rebounds\n",
       "(Stephen Curry, 30)         PG      10        4         9\n",
       "(Kobe Bryant, 24)           SG       6        1         9\n",
       "(Kawhi Leonard, 2)          SF      10        4        14\n",
       "(LeBron James, 23)          PF       6        8         8\n",
       "(Shaquille ONeal, 32)        C      12       19        12"
      ],
      "text/html": "<div>\n<style scoped>\n    .dataframe tbody tr th:only-of-type {\n        vertical-align: middle;\n    }\n\n    .dataframe tbody tr th {\n        vertical-align: top;\n    }\n\n    .dataframe thead th {\n        text-align: right;\n    }\n</style>\n<table border=\"1\" class=\"dataframe\">\n  <thead>\n    <tr style=\"text-align: right;\">\n      <th></th>\n      <th>position</th>\n      <th>points</th>\n      <th>assists</th>\n      <th>rebounds</th>\n    </tr>\n  </thead>\n  <tbody>\n    <tr>\n      <th>(Stephen Curry, 30)</th>\n      <td>PG</td>\n      <td>10</td>\n      <td>4</td>\n      <td>9</td>\n    </tr>\n    <tr>\n      <th>(Kobe Bryant, 24)</th>\n      <td>SG</td>\n      <td>6</td>\n      <td>1</td>\n      <td>9</td>\n    </tr>\n    <tr>\n      <th>(Kawhi Leonard, 2)</th>\n      <td>SF</td>\n      <td>10</td>\n      <td>4</td>\n      <td>14</td>\n    </tr>\n    <tr>\n      <th>(LeBron James, 23)</th>\n      <td>PF</td>\n      <td>6</td>\n      <td>8</td>\n      <td>8</td>\n    </tr>\n    <tr>\n      <th>(Shaquille ONeal, 32)</th>\n      <td>C</td>\n      <td>12</td>\n      <td>19</td>\n      <td>12</td>\n    </tr>\n  </tbody>\n</table>\n</div>"
     },
     "metadata": {},
     "execution_count": 144
    }
   ],
   "source": [
    "table"
   ]
  },
  {
   "cell_type": "code",
   "execution_count": 145,
   "metadata": {},
   "outputs": [
    {
     "output_type": "execute_result",
     "data": {
      "text/plain": [
       "array([7, 6, 3, 8, 1])"
      ]
     },
     "metadata": {},
     "execution_count": 145
    }
   ],
   "source": [
    "attemps = np.random.randint(0,10,5)\n",
    "attemps"
   ]
  },
  {
   "cell_type": "code",
   "execution_count": 147,
   "metadata": {},
   "outputs": [
    {
     "output_type": "execute_result",
     "data": {
      "text/plain": [
       "                      position  points  assists  rebounds  shot attemps\n",
       "(Stephen Curry, 30)         PG      10        4         9             7\n",
       "(Kobe Bryant, 24)           SG       6        1         9             6\n",
       "(Kawhi Leonard, 2)          SF      10        4        14             3\n",
       "(LeBron James, 23)          PF       6        8         8             8\n",
       "(Shaquille ONeal, 32)        C      12       19        12             1"
      ],
      "text/html": "<div>\n<style scoped>\n    .dataframe tbody tr th:only-of-type {\n        vertical-align: middle;\n    }\n\n    .dataframe tbody tr th {\n        vertical-align: top;\n    }\n\n    .dataframe thead th {\n        text-align: right;\n    }\n</style>\n<table border=\"1\" class=\"dataframe\">\n  <thead>\n    <tr style=\"text-align: right;\">\n      <th></th>\n      <th>position</th>\n      <th>points</th>\n      <th>assists</th>\n      <th>rebounds</th>\n      <th>shot attemps</th>\n    </tr>\n  </thead>\n  <tbody>\n    <tr>\n      <th>(Stephen Curry, 30)</th>\n      <td>PG</td>\n      <td>10</td>\n      <td>4</td>\n      <td>9</td>\n      <td>7</td>\n    </tr>\n    <tr>\n      <th>(Kobe Bryant, 24)</th>\n      <td>SG</td>\n      <td>6</td>\n      <td>1</td>\n      <td>9</td>\n      <td>6</td>\n    </tr>\n    <tr>\n      <th>(Kawhi Leonard, 2)</th>\n      <td>SF</td>\n      <td>10</td>\n      <td>4</td>\n      <td>14</td>\n      <td>3</td>\n    </tr>\n    <tr>\n      <th>(LeBron James, 23)</th>\n      <td>PF</td>\n      <td>6</td>\n      <td>8</td>\n      <td>8</td>\n      <td>8</td>\n    </tr>\n    <tr>\n      <th>(Shaquille ONeal, 32)</th>\n      <td>C</td>\n      <td>12</td>\n      <td>19</td>\n      <td>12</td>\n      <td>1</td>\n    </tr>\n  </tbody>\n</table>\n</div>"
     },
     "metadata": {},
     "execution_count": 147
    }
   ],
   "source": [
    "table.insert(4,'shot attemps',attemps)\n",
    "table"
   ]
  }
 ]
}